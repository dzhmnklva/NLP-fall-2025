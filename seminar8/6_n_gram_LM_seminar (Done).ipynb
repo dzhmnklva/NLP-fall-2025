{
 "cells": [
  {
   "cell_type": "markdown",
   "metadata": {
    "cellId": "k1gpzj4guo8e1riwj3om1k",
    "id": "Y4WKtovymi6n"
   },
   "source": [
    "### N-gram language models or how to write scientific papers (4 pts)\n",
    "\n",
    "We shall train our language model on a corpora of [ArXiv](http://arxiv.org/) articles and see if we can generate a new one!\n",
    "\n",
    "![img](https://media.npr.org/assets/img/2013/12/10/istock-18586699-monkey-computer_brick-16e5064d3378a14e0e4c2da08857efe03c04695e-s800-c85.jpg)\n",
    "\n",
    "_data by neelshah18 from [here](https://www.kaggle.com/neelshah18/arxivdataset/)_\n",
    "\n",
    "_Disclaimer: this has nothing to do with actual science. But it's fun, so who cares?!_"
   ]
  },
  {
   "cell_type": "code",
   "execution_count": 2,
   "metadata": {
    "cellId": "u8jdaiy68oib3jvr4k01",
    "id": "mCZmB-lRmi6p",
    "jupyter": {
     "is_executing": true
    }
   },
   "outputs": [],
   "source": [
    "import numpy as np\n",
    "import pandas as pd\n",
    "import matplotlib.pyplot as plt\n",
    "%matplotlib inline"
   ]
  },
  {
   "cell_type": "code",
   "execution_count": 3,
   "metadata": {
    "cellId": "0c76vnyl3zui9yhtkodgrlf",
    "id": "wz0p60N5mi6p"
   },
   "outputs": [
    {
     "name": "stdout",
     "output_type": "stream",
     "text": [
      "--2025-10-31 15:01:42--  https://www.dropbox.com/s/99az9n1b57qkd9j/arxivData.json.tar.gz?dl=1\n",
      "Resolving www.dropbox.com (www.dropbox.com)... 162.125.65.18, 2620:100:6026:18::a27d:4612\n",
      "Connecting to www.dropbox.com (www.dropbox.com)|162.125.65.18|:443... connected.\n",
      "HTTP request sent, awaiting response... 302 Found\n",
      "Location: https://www.dropbox.com/scl/fi/0mulrothty5o8i8ud9gz2/arxivData.json.tar.gz?rlkey=n759u5qx2xpxxglmrl390vwvk&dl=1 [following]\n",
      "--2025-10-31 15:01:43--  https://www.dropbox.com/scl/fi/0mulrothty5o8i8ud9gz2/arxivData.json.tar.gz?rlkey=n759u5qx2xpxxglmrl390vwvk&dl=1\n",
      "Reusing existing connection to www.dropbox.com:443.\n",
      "HTTP request sent, awaiting response... 302 Found\n",
      "Location: https://uc62ead9195c82148c18472decb1.dl.dropboxusercontent.com/cd/0/inline/C0Q2eR2BH9M8sGyAu2eCLEVxF_d8aZokliW-ftMTfrUAyG_bryiPZ5ZxTRf6qCqesVWV88ub7cGU6-ajkqyPdlaUUtfep-LGehjpLuwCJckuA-cDHbYOZUhFeG5BzomG6Iw/file?dl=1# [following]\n",
      "--2025-10-31 15:01:44--  https://uc62ead9195c82148c18472decb1.dl.dropboxusercontent.com/cd/0/inline/C0Q2eR2BH9M8sGyAu2eCLEVxF_d8aZokliW-ftMTfrUAyG_bryiPZ5ZxTRf6qCqesVWV88ub7cGU6-ajkqyPdlaUUtfep-LGehjpLuwCJckuA-cDHbYOZUhFeG5BzomG6Iw/file?dl=1\n",
      "Resolving uc62ead9195c82148c18472decb1.dl.dropboxusercontent.com (uc62ead9195c82148c18472decb1.dl.dropboxusercontent.com)... 162.125.65.15, 2620:100:6026:15::a27d:460f\n",
      "Connecting to uc62ead9195c82148c18472decb1.dl.dropboxusercontent.com (uc62ead9195c82148c18472decb1.dl.dropboxusercontent.com)|162.125.65.15|:443... connected.\n",
      "HTTP request sent, awaiting response... 302 Found\n",
      "Location: /cd/0/inline2/C0SESSYHGJk-NVz_zBFcY3CTXUqiaJNswQV5BcuOc9cgM5xdTKSoYABUxn3-leEVcj7WNhxK84TYqedMtOo78iDK3Q417c0zpkaH5vQ2EvkMzFa3JIy9FmFwfJLva85BkN8gwtmxFWgK1qbSzbjhFwd7OlpYoqHGXSSVRjljRd1caXTykFmSU5KO9S2ucYvtbBrhElm_gkQe-Y3dw2C9c3wjx7bI2CU_ohATHArvkc4y9HJS0OF7OUQUm8IRKr3oBn5tXR5e_FFUgmoP5DZn0dLIf9mC9ziBTFQUChqIO1LPjoYGaISp8VEjApOq97vjthneg-6n6RydBW3EEiACL9afZqk_wuFNwMl1s0dFFT-FNA/file?dl=1 [following]\n",
      "--2025-10-31 15:01:46--  https://uc62ead9195c82148c18472decb1.dl.dropboxusercontent.com/cd/0/inline2/C0SESSYHGJk-NVz_zBFcY3CTXUqiaJNswQV5BcuOc9cgM5xdTKSoYABUxn3-leEVcj7WNhxK84TYqedMtOo78iDK3Q417c0zpkaH5vQ2EvkMzFa3JIy9FmFwfJLva85BkN8gwtmxFWgK1qbSzbjhFwd7OlpYoqHGXSSVRjljRd1caXTykFmSU5KO9S2ucYvtbBrhElm_gkQe-Y3dw2C9c3wjx7bI2CU_ohATHArvkc4y9HJS0OF7OUQUm8IRKr3oBn5tXR5e_FFUgmoP5DZn0dLIf9mC9ziBTFQUChqIO1LPjoYGaISp8VEjApOq97vjthneg-6n6RydBW3EEiACL9afZqk_wuFNwMl1s0dFFT-FNA/file?dl=1\n",
      "Reusing existing connection to uc62ead9195c82148c18472decb1.dl.dropboxusercontent.com:443.\n",
      "HTTP request sent, awaiting response... 200 OK\n",
      "Length: 18933283 (18M) [application/binary]\n",
      "Saving to: ‘arxivData.json.tar.gz’\n",
      "\n",
      "arxivData.json.tar. 100%[===================>]  18.06M  14.0MB/s    in 1.3s    \n",
      "\n",
      "2025-10-31 15:01:47 (14.0 MB/s) - ‘arxivData.json.tar.gz’ saved [18933283/18933283]\n",
      "\n",
      "arxivData.json\n"
     ]
    },
    {
     "data": {
      "text/html": [
       "<div>\n",
       "<style scoped>\n",
       "    .dataframe tbody tr th:only-of-type {\n",
       "        vertical-align: middle;\n",
       "    }\n",
       "\n",
       "    .dataframe tbody tr th {\n",
       "        vertical-align: top;\n",
       "    }\n",
       "\n",
       "    .dataframe thead th {\n",
       "        text-align: right;\n",
       "    }\n",
       "</style>\n",
       "<table border=\"1\" class=\"dataframe\">\n",
       "  <thead>\n",
       "    <tr style=\"text-align: right;\">\n",
       "      <th></th>\n",
       "      <th>author</th>\n",
       "      <th>day</th>\n",
       "      <th>id</th>\n",
       "      <th>link</th>\n",
       "      <th>month</th>\n",
       "      <th>summary</th>\n",
       "      <th>tag</th>\n",
       "      <th>title</th>\n",
       "      <th>year</th>\n",
       "    </tr>\n",
       "  </thead>\n",
       "  <tbody>\n",
       "    <tr>\n",
       "      <th>17519</th>\n",
       "      <td>[{'name': 'Diego Moussallem'}, {'name': 'Matth...</td>\n",
       "      <td>26</td>\n",
       "      <td>1711.09476v2</td>\n",
       "      <td>[{'rel': 'alternate', 'href': 'http://arxiv.or...</td>\n",
       "      <td>11</td>\n",
       "      <td>A large number of machine translation approach...</td>\n",
       "      <td>[{'term': 'cs.CL', 'scheme': 'http://arxiv.org...</td>\n",
       "      <td>Machine Translation Using Semantic Web Technol...</td>\n",
       "      <td>2017</td>\n",
       "    </tr>\n",
       "    <tr>\n",
       "      <th>16282</th>\n",
       "      <td>[{'name': 'Sophie J. Lee'}, {'name': 'Howard L...</td>\n",
       "      <td>14</td>\n",
       "      <td>1611.04837v1</td>\n",
       "      <td>[{'rel': 'alternate', 'href': 'http://arxiv.or...</td>\n",
       "      <td>11</td>\n",
       "      <td>Extracting the \"correct\" location information ...</td>\n",
       "      <td>[{'term': 'cs.CL', 'scheme': 'http://arxiv.org...</td>\n",
       "      <td>Lost in Space: Geolocation in Event Data</td>\n",
       "      <td>2016</td>\n",
       "    </tr>\n",
       "    <tr>\n",
       "      <th>34322</th>\n",
       "      <td>[{'name': 'Antti Suni'}, {'name': 'Daniel Aalt...</td>\n",
       "      <td>7</td>\n",
       "      <td>1510.01949v1</td>\n",
       "      <td>[{'rel': 'alternate', 'href': 'http://arxiv.or...</td>\n",
       "      <td>10</td>\n",
       "      <td>Prominences and boundaries are the essential c...</td>\n",
       "      <td>[{'term': 'cs.CL', 'scheme': 'http://arxiv.org...</td>\n",
       "      <td>Hierarchical Representation of Prosody for Sta...</td>\n",
       "      <td>2015</td>\n",
       "    </tr>\n",
       "    <tr>\n",
       "      <th>2429</th>\n",
       "      <td>[{'name': 'Hei Chan'}, {'name': 'Adnan Darwich...</td>\n",
       "      <td>19</td>\n",
       "      <td>1212.2470v1</td>\n",
       "      <td>[{'rel': 'alternate', 'href': 'http://arxiv.or...</td>\n",
       "      <td>10</td>\n",
       "      <td>Bayesian network classifiers are used in many ...</td>\n",
       "      <td>[{'term': 'cs.LG', 'scheme': 'http://arxiv.org...</td>\n",
       "      <td>Reasoning about Bayesian Network Classifiers</td>\n",
       "      <td>2012</td>\n",
       "    </tr>\n",
       "    <tr>\n",
       "      <th>33276</th>\n",
       "      <td>[{'name': 'Christoph Schommer'}]</td>\n",
       "      <td>9</td>\n",
       "      <td>0805.1296v1</td>\n",
       "      <td>[{'rel': 'alternate', 'href': 'http://arxiv.or...</td>\n",
       "      <td>5</td>\n",
       "      <td>In this paper, we informally introduce dynamic...</td>\n",
       "      <td>[{'term': 'cs.NE', 'scheme': 'http://arxiv.org...</td>\n",
       "      <td>A Simple Dynamic Mind-map Framework To Discove...</td>\n",
       "      <td>2008</td>\n",
       "    </tr>\n",
       "  </tbody>\n",
       "</table>\n",
       "</div>"
      ],
      "text/plain": [
       "                                                  author  day            id  \\\n",
       "17519  [{'name': 'Diego Moussallem'}, {'name': 'Matth...   26  1711.09476v2   \n",
       "16282  [{'name': 'Sophie J. Lee'}, {'name': 'Howard L...   14  1611.04837v1   \n",
       "34322  [{'name': 'Antti Suni'}, {'name': 'Daniel Aalt...    7  1510.01949v1   \n",
       "2429   [{'name': 'Hei Chan'}, {'name': 'Adnan Darwich...   19   1212.2470v1   \n",
       "33276                   [{'name': 'Christoph Schommer'}]    9   0805.1296v1   \n",
       "\n",
       "                                                    link  month  \\\n",
       "17519  [{'rel': 'alternate', 'href': 'http://arxiv.or...     11   \n",
       "16282  [{'rel': 'alternate', 'href': 'http://arxiv.or...     11   \n",
       "34322  [{'rel': 'alternate', 'href': 'http://arxiv.or...     10   \n",
       "2429   [{'rel': 'alternate', 'href': 'http://arxiv.or...     10   \n",
       "33276  [{'rel': 'alternate', 'href': 'http://arxiv.or...      5   \n",
       "\n",
       "                                                 summary  \\\n",
       "17519  A large number of machine translation approach...   \n",
       "16282  Extracting the \"correct\" location information ...   \n",
       "34322  Prominences and boundaries are the essential c...   \n",
       "2429   Bayesian network classifiers are used in many ...   \n",
       "33276  In this paper, we informally introduce dynamic...   \n",
       "\n",
       "                                                     tag  \\\n",
       "17519  [{'term': 'cs.CL', 'scheme': 'http://arxiv.org...   \n",
       "16282  [{'term': 'cs.CL', 'scheme': 'http://arxiv.org...   \n",
       "34322  [{'term': 'cs.CL', 'scheme': 'http://arxiv.org...   \n",
       "2429   [{'term': 'cs.LG', 'scheme': 'http://arxiv.org...   \n",
       "33276  [{'term': 'cs.NE', 'scheme': 'http://arxiv.org...   \n",
       "\n",
       "                                                   title  year  \n",
       "17519  Machine Translation Using Semantic Web Technol...  2017  \n",
       "16282           Lost in Space: Geolocation in Event Data  2016  \n",
       "34322  Hierarchical Representation of Prosody for Sta...  2015  \n",
       "2429        Reasoning about Bayesian Network Classifiers  2012  \n",
       "33276  A Simple Dynamic Mind-map Framework To Discove...  2008  "
      ]
     },
     "execution_count": 3,
     "metadata": {},
     "output_type": "execute_result"
    }
   ],
   "source": [
    "# Alternative manual download link: https://yadi.sk/d/_nGyU2IajjR9-w\n",
    "!wget \"https://www.dropbox.com/s/99az9n1b57qkd9j/arxivData.json.tar.gz?dl=1\" -O arxivData.json.tar.gz\n",
    "!tar -xvzf arxivData.json.tar.gz\n",
    "data = pd.read_json(\"./arxivData.json\")\n",
    "data.sample(n=5)"
   ]
  },
  {
   "cell_type": "code",
   "execution_count": 4,
   "metadata": {
    "cellId": "lbyqb5rx7j8jpo591r06ak",
    "id": "Btkt7tYAmi6q"
   },
   "outputs": [
    {
     "data": {
      "text/plain": [
       "['Differential Contrastive Divergence ; This paper has been retracted.',\n",
       " 'What Does Artificial Life Tell Us About Death? ; Short philosophical essay',\n",
       " 'P=NP ; We claim to resolve the P=?NP problem via a formal argument for P=NP.']"
      ]
     },
     "execution_count": 4,
     "metadata": {},
     "output_type": "execute_result"
    }
   ],
   "source": [
    "# assemble lines: concatenate title and description\n",
    "lines = data.apply(lambda row: row['title'] + ' ; ' + row['summary'].replace(\"\\n\", ' '), axis=1).tolist()\n",
    "\n",
    "sorted(lines, key=len)[:3]"
   ]
  },
  {
   "cell_type": "markdown",
   "metadata": {
    "cellId": "7u97m5s8ekl5zd5a43a1yc",
    "id": "dy15AQsMmi6q"
   },
   "source": [
    "### Tokenization\n",
    "\n",
    "You know the dril. The data is messy. Go clean the data. Use WordPunctTokenizer or something.\n"
   ]
  },
  {
   "cell_type": "code",
   "execution_count": 5,
   "metadata": {
    "cellId": "u8rvfk719iek97t3rarwr",
    "id": "XhdSWUIGmi6q"
   },
   "outputs": [],
   "source": [
    "# Task: convert lines (in-place) into strings of space-separated tokens. Import & use WordPunctTokenizer\n",
    "\n",
    "from nltk.tokenize import WordPunctTokenizer\n",
    "\n",
    "tokenizer = WordPunctTokenizer()\n",
    "\n",
    "lines = [\n",
    "    ' '.join(tokenizer.tokenize(line.lower().strip()))\n",
    "    for line in lines\n",
    "    if isinstance(line, str) and line.strip()\n",
    "]"
   ]
  },
  {
   "cell_type": "code",
   "execution_count": 6,
   "metadata": {
    "cellId": "w88nddpp2k8edoeyyyjh0l",
    "id": "yzyeOVU_mi6q"
   },
   "outputs": [],
   "source": [
    "assert sorted(lines, key=len)[0] == \\\n",
    "    'differential contrastive divergence ; this paper has been retracted .'\n",
    "assert sorted(lines, key=len)[2] == \\\n",
    "    'p = np ; we claim to resolve the p =? np problem via a formal argument for p = np .'"
   ]
  },
  {
   "cell_type": "markdown",
   "metadata": {
    "cellId": "qb6h3hxmr095egzv8rlzul",
    "id": "0rL1aNOCmi6q"
   },
   "source": [
    "### N-Gram Language Model (1point)\n",
    "\n",
    "A language model is a probabilistic model that estimates text probability: the joint probability of all tokens $w_t$ in text $X$: $P(X) = P(w_1, \\dots, w_T)$.\n",
    "\n",
    "It can do so by following the chain rule:\n",
    "$$P(w_1, \\dots, w_T) = P(w_1)P(w_2 \\mid w_1)\\dots P(w_T \\mid w_1, \\dots, w_{T-1}).$$\n",
    "\n",
    "The problem with such approach is that the final term $P(w_T \\mid w_1, \\dots, w_{T-1})$ depends on $n-1$ previous words. This probability is impractical to estimate for long texts, e.g. $T = 1000$.\n",
    "\n",
    "One popular approximation is to assume that next word only depends on a finite amount of previous words:\n",
    "\n",
    "$$P(w_t \\mid w_1, \\dots, w_{t - 1}) = P(w_t \\mid w_{t - n + 1}, \\dots, w_{t - 1})$$\n",
    "\n",
    "Such model is called __n-gram language model__ where n is a parameter. For example, in 3-gram language model, each word only depends on 2 previous words.\n",
    "\n",
    "$$\n",
    "    P(w_1, \\dots, w_n) = \\prod_t P(w_t \\mid w_{t - n + 1}, \\dots, w_{t - 1}).\n",
    "$$\n",
    "\n",
    "You can also sometimes see such approximation under the name of _n-th order markov assumption_."
   ]
  },
  {
   "cell_type": "markdown",
   "metadata": {
    "cellId": "u68wydbiioqlp5gl96mhd",
    "id": "I8eHF0Wsmi6q"
   },
   "source": [
    "The first stage to building such a model is counting all word occurences given N-1 previous words"
   ]
  },
  {
   "cell_type": "code",
   "execution_count": 7,
   "metadata": {
    "cellId": "og84gjipnumsakhiiu9ap",
    "id": "MzFUxodJmi6q"
   },
   "outputs": [],
   "source": [
    "from tqdm import tqdm\n",
    "from collections import defaultdict, Counter\n",
    "\n",
    "# special tokens:\n",
    "# - `UNK` represents absent tokens,\n",
    "# - `EOS` is a special token after the end of sequence\n",
    "\n",
    "UNK, EOS = \"_UNK_\", \"_EOS_\"\n",
    "\n",
    "def count_ngrams(lines, n):\n",
    "    \"\"\"\n",
    "    Count how many times each word occured after (n - 1) previous words\n",
    "    :param lines: an iterable of strings with space-separated tokens\n",
    "    :returns: a dictionary { tuple(prefix_tokens): {next_token_1: count_1, next_token_2: count_2}}\n",
    "\n",
    "    When building counts, please consider the following two edge cases:\n",
    "    - if prefix is shorter than (n - 1) tokens, it should be padded with UNK. For n=3,\n",
    "      empty prefix: \"\" -> (UNK, UNK)\n",
    "      short prefix: \"the\" -> (UNK, the)\n",
    "      long prefix: \"the new approach\" -> (new, approach)\n",
    "    - you should add a special token, EOS, at the end of each sequence\n",
    "      \"... with deep neural networks .\" -> (..., with, deep, neural, networks, ., EOS)\n",
    "      count the probability of this token just like all others.\n",
    "    \"\"\"\n",
    "    counts = defaultdict(Counter)\n",
    "    # counts[(word1, word2)][word3] = how many times word3 occured after (word1, word2)\n",
    "\n",
    "    for line in tqdm(lines):\n",
    "        tokens = line.split()\n",
    "        tokens.append(EOS)  # добавляем EOS в конец\n",
    "\n",
    "        for i in range(len(tokens)):\n",
    "            # берём последние (n - 1) токенов перед текущим\n",
    "            prefix = tokens[max(0, i - (n - 1)):i]\n",
    "            # если их меньше чем (n - 1), добавляем UNK слева\n",
    "            if len(prefix) < n - 1:\n",
    "                prefix = [UNK] * (n - 1 - len(prefix)) + prefix\n",
    "\n",
    "            prefix = tuple(prefix)\n",
    "            word = tokens[i]\n",
    "\n",
    "            counts[prefix][word] += 1\n",
    "\n",
    "    return counts\n"
   ]
  },
  {
   "cell_type": "code",
   "execution_count": 8,
   "metadata": {
    "cellId": "xyf2he6lak9mmqarl3nck",
    "id": "kR6ayRyVmi6r"
   },
   "outputs": [
    {
     "name": "stderr",
     "output_type": "stream",
     "text": [
      "100%|█████████████████████████████████████████████████████████████████████████████████████████████████| 100/100 [00:00<00:00, 44648.75it/s]\n"
     ]
    }
   ],
   "source": [
    "# let's test it\n",
    "dummy_lines = sorted(lines, key=len)[:100]\n",
    "dummy_counts = count_ngrams(dummy_lines, n=3)\n",
    "assert set(map(len, dummy_counts.keys())) == {2}, \"please only count {n-1}-grams\"\n",
    "assert len(dummy_counts[('_UNK_', '_UNK_')]) == 78\n",
    "assert dummy_counts['_UNK_', 'a']['note'] == 3\n",
    "assert dummy_counts['p', '=']['np'] == 2\n",
    "assert dummy_counts['author', '.']['_EOS_'] == 1"
   ]
  },
  {
   "cell_type": "markdown",
   "metadata": {
    "cellId": "4j620npeqvj0k8ak8xqx8xk",
    "id": "UqW_tI2Nmi6r"
   },
   "source": [
    "Once we can count N-grams, we can build a probabilistic language model.\n",
    "The simplest way to compute probabilities is in proporiton to counts:\n",
    "\n",
    "$$ P(w_t | prefix) = { Count(prefix, w_t) \\over \\sum_{\\hat w} Count(prefix, \\hat w) } $$"
   ]
  },
  {
   "cell_type": "code",
   "execution_count": 9,
   "metadata": {
    "cellId": "c7cm76wmzlaa12bctznzei",
    "id": "i2pD4V9xmi6r"
   },
   "outputs": [],
   "source": [
    "class NGramLanguageModel:\n",
    "    def __init__(self, lines, n):\n",
    "        \"\"\"\n",
    "        Train a simple count-based language model:\n",
    "        compute probabilities P(w_t | prefix) given ngram counts\n",
    "\n",
    "        :param n: computes probability of next token given (n - 1) previous words\n",
    "        :param lines: an iterable of strings with space-separated tokens\n",
    "        \"\"\"\n",
    "        assert n >= 1\n",
    "        self.n = n\n",
    "\n",
    "        counts = count_ngrams(lines, self.n)\n",
    "\n",
    "        # compute token proabilities given counts\n",
    "        self.probs = defaultdict(Counter)\n",
    "        # probs[(word1, word2)][word3] = P(word3 | word1, word2)\n",
    "\n",
    "        # populate self.probs with actual probabilities\n",
    "        for prefix, counter in counts.items():\n",
    "            total = sum(counter.values())\n",
    "            for token, cnt in counter.items():\n",
    "                self.probs[prefix][token] = cnt / total  # нормализация по сумме\n",
    "\n",
    "    def get_possible_next_tokens(self, prefix):\n",
    "        \"\"\"\n",
    "        :param prefix: string with space-separated prefix tokens\n",
    "        :returns: a dictionary {token : it's probability} for all tokens with positive probabilities\n",
    "        \"\"\"\n",
    "        prefix = prefix.split()\n",
    "        prefix = prefix[max(0, len(prefix) - self.n + 1):]\n",
    "        prefix = [ UNK ] * (self.n - 1 - len(prefix)) + prefix\n",
    "        return self.probs[tuple(prefix)]\n",
    "\n",
    "    def get_next_token_prob(self, prefix, next_token):\n",
    "        \"\"\"\n",
    "        :param prefix: string with space-separated prefix tokens\n",
    "        :param next_token: the next token to predict probability for\n",
    "        :returns: P(next_token|prefix) a single number, 0 <= P <= 1\n",
    "        \"\"\"\n",
    "        return self.get_possible_next_tokens(prefix).get(next_token, 0)"
   ]
  },
  {
   "cell_type": "markdown",
   "metadata": {
    "cellId": "0ftnn4nmuzrup6c0vvhb8q",
    "id": "pRUDgfA8mi6r"
   },
   "source": [
    "Let's test it!"
   ]
  },
  {
   "cell_type": "code",
   "execution_count": 10,
   "metadata": {
    "cellId": "a7zajcnvhqupvcrmacvkur",
    "id": "Vl-kvzPmmi6r"
   },
   "outputs": [
    {
     "name": "stderr",
     "output_type": "stream",
     "text": [
      "100%|█████████████████████████████████████████████████████████████████████████████████████████████████| 100/100 [00:00<00:00, 28068.69it/s]\n"
     ]
    }
   ],
   "source": [
    "dummy_lm = NGramLanguageModel(dummy_lines, n=3)\n",
    "\n",
    "p_initial = dummy_lm.get_possible_next_tokens('') # '' -> ['_UNK_', '_UNK_']\n",
    "assert np.allclose(p_initial['learning'], 0.02)\n",
    "assert np.allclose(p_initial['a'], 0.13)\n",
    "assert np.allclose(p_initial.get('meow', 0), 0)\n",
    "assert np.allclose(sum(p_initial.values()), 1)\n",
    "\n",
    "p_a = dummy_lm.get_possible_next_tokens('a') # '' -> ['_UNK_', 'a']\n",
    "assert np.allclose(p_a['machine'], 0.15384615)\n",
    "assert np.allclose(p_a['note'], 0.23076923)\n",
    "assert np.allclose(p_a.get('the', 0), 0)\n",
    "assert np.allclose(sum(p_a.values()), 1)\n",
    "\n",
    "assert np.allclose(dummy_lm.get_possible_next_tokens('a note')['on'], 1)\n",
    "assert dummy_lm.get_possible_next_tokens('a machine') == \\\n",
    "    dummy_lm.get_possible_next_tokens(\"there have always been ghosts in a machine\"), \\\n",
    "    \"your 3-gram model should only depend on 2 previous words\""
   ]
  },
  {
   "cell_type": "markdown",
   "metadata": {
    "cellId": "oh8r9a41kuk4r51wra9",
    "id": "TdQu6ZqVmi6r"
   },
   "source": [
    "Now that you've got a working n-gram language model, let's see what sequences it can generate. But first, let's train it on the whole dataset."
   ]
  },
  {
   "cell_type": "code",
   "execution_count": 11,
   "metadata": {
    "cellId": "f17xoejjppmooo2nopw4xo",
    "id": "fzD0eXjBmi6r"
   },
   "outputs": [
    {
     "name": "stderr",
     "output_type": "stream",
     "text": [
      "100%|██████████████████████████████████████████████████████████████████████████████████████████████| 41000/41000 [00:07<00:00, 5628.01it/s]\n"
     ]
    }
   ],
   "source": [
    "lm = NGramLanguageModel(lines, n=3)"
   ]
  },
  {
   "cell_type": "markdown",
   "metadata": {
    "cellId": "2kd9glwnkr470qc4bt7f1e",
    "id": "pY-_4aJ-mi6r"
   },
   "source": [
    "The process of generating sequences is... well, it's sequential. You maintain a list of tokens and iteratively add next token by sampling with probabilities.\n",
    "\n",
    "$ X = [] $\n",
    "\n",
    "__forever:__\n",
    "* $w_{next} \\sim P(w_{next} | X)$\n",
    "* $X = concat(X, w_{next})$\n",
    "\n",
    "\n",
    "Instead of sampling with probabilities, one can also try always taking most likely token, sampling among top-K most likely tokens or sampling with temperature. In the latter case (temperature), one samples from\n",
    "\n",
    "$$w_{next} \\sim {P(w_{next} | X) ^ {1 / \\tau} \\over \\sum_{\\hat w} P(\\hat w | X) ^ {1 / \\tau}}$$\n",
    "\n",
    "Where $\\tau > 0$ is model temperature. If $\\tau << 1$, more likely tokens will be sampled with even higher probability while less likely tokens will vanish."
   ]
  },
  {
   "cell_type": "code",
   "execution_count": 12,
   "metadata": {
    "cellId": "sgbatlm9vzb4z889fho7",
    "id": "9Bc8GF8Kmi6r"
   },
   "outputs": [],
   "source": [
    "def get_next_token(lm, prefix, temperature=1.0):\n",
    "    \"\"\"\n",
    "    return next token after prefix;\n",
    "    :param temperature: samples proportionally to lm probabilities ^ (1 / temperature)\n",
    "        if temperature == 0, always takes most likely token. Break ties arbitrarily.\n",
    "    \"\"\"\n",
    "    probs_dict = lm.get_possible_next_tokens(prefix)\n",
    "\n",
    "    if not probs_dict:  # если модель не знает таких токенов — вернём UNK\n",
    "        return UNK\n",
    "\n",
    "    tokens = np.array(list(probs_dict.keys()))\n",
    "    probs = np.array(list(probs_dict.values()), dtype=np.float64)\n",
    "\n",
    "    if temperature == 0:  # детерминированный выбор (argmax)\n",
    "        return tokens[np.argmax(probs)]\n",
    "\n",
    "    # применяем \"смягчение\" распределения температурой\n",
    "    scaled_probs = probs ** (1.0 / temperature)\n",
    "    scaled_probs /= scaled_probs.sum()  # нормализуем\n",
    "\n",
    "    # выбираем токен случайно, пропорционально вероятностям\n",
    "    next_token = np.random.choice(tokens, p=scaled_probs)\n",
    "    return next_token"
   ]
  },
  {
   "cell_type": "code",
   "execution_count": 13,
   "metadata": {
    "cellId": "98l40131wjtd5xbdm5b2nr",
    "id": "xoXoHuSlmi6r"
   },
   "outputs": [
    {
     "name": "stdout",
     "output_type": "stream",
     "text": [
      "Looks nice!\n"
     ]
    }
   ],
   "source": [
    "from collections import Counter\n",
    "test_freqs = Counter([get_next_token(lm, 'there have') for _ in range(10000)])\n",
    "assert 250 < test_freqs['not'] < 450\n",
    "assert 8500 < test_freqs['been'] < 9500\n",
    "assert 1 < test_freqs['lately'] < 200\n",
    "\n",
    "test_freqs = Counter([get_next_token(lm, 'deep', temperature=1.0) for _ in range(10000)])\n",
    "assert 1500 < test_freqs['learning'] < 3000\n",
    "test_freqs = Counter([get_next_token(lm, 'deep', temperature=0.5) for _ in range(10000)])\n",
    "assert 8000 < test_freqs['learning'] < 9000\n",
    "test_freqs = Counter([get_next_token(lm, 'deep', temperature=0.0) for _ in range(10000)])\n",
    "assert test_freqs['learning'] == 10000\n",
    "\n",
    "print(\"Looks nice!\")"
   ]
  },
  {
   "cell_type": "markdown",
   "metadata": {
    "cellId": "ux4n8iq523n4s3ftrelhxj",
    "id": "1uS9qMQ5mi6r"
   },
   "source": [
    "Let's have fun with this model"
   ]
  },
  {
   "cell_type": "code",
   "execution_count": 14,
   "metadata": {
    "cellId": "1nnnycga61rijt6nd8zai",
    "id": "GiGqrpnxmi6s"
   },
   "outputs": [
    {
     "name": "stdout",
     "output_type": "stream",
     "text": [
      "artificial intelligence ( ai ) capabilities in planning with pixels of an \" art \" flat \" minima , as well as with cox ' s formal defaults , we present analyses of the baldwin effect , complex , structured - prediction task , which poses an increased thrust in exploring temporal coherence of nonlocal patches . this process suffers from combinatorial design theory are applicable to a canonical model , which can mimic the motion information as a result , methods , and the planet , and hypergraphs ; community - based acoustic auto - localizing the visual vocabulary acquisition\n"
     ]
    }
   ],
   "source": [
    "prefix = 'artificial' # <- your ideas :)\n",
    "\n",
    "for i in range(100):\n",
    "    prefix += ' ' + get_next_token(lm, prefix)\n",
    "    if prefix.endswith(EOS) or len(lm.get_possible_next_tokens(prefix)) == 0:\n",
    "        break\n",
    "\n",
    "print(prefix)"
   ]
  },
  {
   "cell_type": "code",
   "execution_count": 15,
   "metadata": {
    "cellId": "pxyjsv3b7r8thdfxlgitl",
    "id": "YNxO8AEkmi6s"
   },
   "outputs": [
    {
     "name": "stdout",
     "output_type": "stream",
     "text": [
      "bridging the gap between the two - stage methods have been widely used for the segmentation of the most important features by the lack of competitors per explosion , under the assumption of the data . _EOS_\n"
     ]
    }
   ],
   "source": [
    "prefix = 'bridging the' # <- more of your ideas\n",
    "\n",
    "for i in range(100):\n",
    "    prefix += ' ' + get_next_token(lm, prefix, temperature=0.5)\n",
    "    if prefix.endswith(EOS) or len(lm.get_possible_next_tokens(prefix)) == 0:\n",
    "        break\n",
    "\n",
    "print(prefix)"
   ]
  },
  {
   "cell_type": "markdown",
   "metadata": {
    "cellId": "2n90bscmzfko0qnctp7ysc",
    "id": "sEzYsAfOmi6s"
   },
   "source": [
    "__More in the homework:__ nucleus sampling, top-k sampling, beam search(not for the faint of heart)."
   ]
  },
  {
   "cell_type": "markdown",
   "metadata": {
    "cellId": "3gdmey7g8at5n5c5x4gayh",
    "id": "RhTGYM00mi6s"
   },
   "source": [
    "### Evaluating language models: perplexity (1point)\n",
    "\n",
    "Perplexity is a measure of how well your model approximates the true probability distribution behind the data. __Smaller perplexity = better model__.\n",
    "\n",
    "To compute perplexity on one sentence, use:\n",
    "$$\n",
    "    {\\mathbb{P}}(w_1 \\dots w_N) = P(w_1, \\dots, w_N)^{-\\frac1N} = \\left( \\prod_t P(w_t \\mid w_{t - n}, \\dots, w_{t - 1})\\right)^{-\\frac1N},\n",
    "$$\n",
    "\n",
    "\n",
    "On the corpora level, perplexity is a product of probabilities of all tokens in all sentences to the power of $1/N$, where $N$ is __total length (in tokens) of all sentences__ in corpora.\n",
    "\n",
    "This number can quickly get too small for float32/float64 precision, so we recommend you to first compute log-perplexity (from log-probabilities) and then take the exponent."
   ]
  },
  {
   "cell_type": "code",
   "execution_count": 16,
   "metadata": {
    "cellId": "5hp010xyzzb4vqewo1bhny",
    "id": "Ov5waQKQmi6s"
   },
   "outputs": [],
   "source": [
    "def perplexity(lm, lines, min_logprob=np.log(10 ** -50.)):\n",
    "    \"\"\"\n",
    "    :param lines: a list of strings with space-separated tokens\n",
    "    :param min_logprob: if log(P(w | ...)) is smaller than min_logprop, set it equal to min_logrob\n",
    "    :returns: corpora-level perplexity - a single scalar number from the formula above\n",
    "\n",
    "    Note: do not forget to compute P(w_first | empty) and P(eos | full_sequence)\n",
    "\n",
    "    PLEASE USE lm.get_next_token_prob and NOT lm.get_possible_next_tokens\n",
    "    \"\"\"\n",
    "    total_log_prob = 0.0\n",
    "    total_tokens = 0\n",
    "\n",
    "    for line in lines:\n",
    "        tokens = line.strip().split()\n",
    "        tokens.append(EOS)  # обязательно добавляем конец предложения\n",
    "\n",
    "        # перебираем токены, включая первый (где префикс пустой)\n",
    "        for i in range(len(tokens)):\n",
    "            prefix = tokens[max(0, i - (lm.n - 1)):i]\n",
    "\n",
    "            # если длина префикса меньше (n-1) → добавляем UNK слева\n",
    "            if len(prefix) < lm.n - 1:\n",
    "                prefix = [UNK] * ((lm.n - 1) - len(prefix)) + prefix\n",
    "\n",
    "            prefix_str = ' '.join(prefix)\n",
    "            token = tokens[i]\n",
    "\n",
    "            # получаем вероятность токена\n",
    "            prob = lm.get_next_token_prob(prefix_str, token)\n",
    "\n",
    "            # избегаем log(0)\n",
    "            logprob = np.log(prob) if prob > 0 else min_logprob\n",
    "\n",
    "            total_log_prob += logprob\n",
    "            total_tokens += 1\n",
    "\n",
    "    # log perplexity = - (1/N) * sum(log P)\n",
    "    avg_log_prob = total_log_prob / total_tokens\n",
    "    ppl = np.exp(-avg_log_prob)\n",
    "\n",
    "    return ppl"
   ]
  },
  {
   "cell_type": "code",
   "execution_count": 17,
   "metadata": {
    "cellId": "8b689bobhkey04x7pabupj",
    "id": "Uy-UoL9umi6s"
   },
   "outputs": [
    {
     "name": "stderr",
     "output_type": "stream",
     "text": [
      "100%|█████████████████████████████████████████████████████████████████████████████████████████████████| 100/100 [00:00<00:00, 96888.52it/s]\n",
      "100%|█████████████████████████████████████████████████████████████████████████████████████████████████| 100/100 [00:00<00:00, 39941.95it/s]\n",
      "100%|█████████████████████████████████████████████████████████████████████████████████████████████████| 100/100 [00:00<00:00, 38642.93it/s]"
     ]
    },
    {
     "name": "stdout",
     "output_type": "stream",
     "text": [
      "Perplexities: ppx1=318.213 ppx3=1.520 ppx10=1.184\n"
     ]
    },
    {
     "name": "stderr",
     "output_type": "stream",
     "text": [
      "\n"
     ]
    }
   ],
   "source": [
    "lm1 = NGramLanguageModel(dummy_lines, n=1)\n",
    "lm3 = NGramLanguageModel(dummy_lines, n=3)\n",
    "lm10 = NGramLanguageModel(dummy_lines, n=10)\n",
    "\n",
    "ppx1 = perplexity(lm1, dummy_lines)\n",
    "ppx3 = perplexity(lm3, dummy_lines)\n",
    "ppx10 = perplexity(lm10, dummy_lines)\n",
    "ppx_missing = perplexity(lm3, ['the jabberwock , with eyes of flame , '])  # thanks, L. Carrol\n",
    "\n",
    "print(\"Perplexities: ppx1=%.3f ppx3=%.3f ppx10=%.3f\" % (ppx1, ppx3, ppx10))\n",
    "\n",
    "assert all(0 < ppx < 500 for ppx in (ppx1, ppx3, ppx10)), \"perplexity should be non-negative and reasonably small\"\n",
    "assert ppx1 > ppx3 > ppx10, \"higher N models should overfit and \"\n",
    "assert np.isfinite(ppx_missing) and ppx_missing > 10 ** 6, \"missing words should have large but finite perplexity. \" \\\n",
    "    \" Make sure you use min_logprob right\"\n",
    "assert np.allclose([ppx1, ppx3, ppx10], (318.2132342216302, 1.5199996213739575, 1.1838145037901249))"
   ]
  },
  {
   "cell_type": "markdown",
   "metadata": {
    "cellId": "ypc4lks4vs1li908fqi8",
    "id": "rRWe4k6Xmi6s"
   },
   "source": [
    "Now let's measure the actual perplexity: we'll split the data into train and test and score model on test data only."
   ]
  },
  {
   "cell_type": "code",
   "execution_count": 18,
   "metadata": {
    "cellId": "tjnehsem2lmijkg2lto4w",
    "id": "9NBKan1Imi6s"
   },
   "outputs": [
    {
     "name": "stderr",
     "output_type": "stream",
     "text": [
      "100%|█████████████████████████████████████████████████████████████████████████████████████████████| 30750/30750 [00:01<00:00, 20183.67it/s]\n"
     ]
    },
    {
     "name": "stdout",
     "output_type": "stream",
     "text": [
      "N = 1, Perplexity = 1832.23136\n"
     ]
    },
    {
     "name": "stderr",
     "output_type": "stream",
     "text": [
      "100%|█████████████████████████████████████████████████████████████████████████████████████████████| 30750/30750 [00:02<00:00, 12307.92it/s]\n"
     ]
    },
    {
     "name": "stdout",
     "output_type": "stream",
     "text": [
      "N = 2, Perplexity = 85653987.28774\n"
     ]
    },
    {
     "name": "stderr",
     "output_type": "stream",
     "text": [
      "100%|██████████████████████████████████████████████████████████████████████████████████████████████| 30750/30750 [00:05<00:00, 5374.65it/s]\n"
     ]
    },
    {
     "name": "stdout",
     "output_type": "stream",
     "text": [
      "N = 3, Perplexity = 61999196259043346743296.00000\n"
     ]
    }
   ],
   "source": [
    "from sklearn.model_selection import train_test_split\n",
    "train_lines, test_lines = train_test_split(lines, test_size=0.25, random_state=42)\n",
    "\n",
    "for n in (1, 2, 3):\n",
    "    lm = NGramLanguageModel(n=n, lines=train_lines)\n",
    "    ppx = perplexity(lm, test_lines)\n",
    "    print(\"N = %i, Perplexity = %.5f\" % (n, ppx))\n"
   ]
  },
  {
   "cell_type": "code",
   "execution_count": 19,
   "metadata": {
    "cellId": "38nfbfkpzgfxik8kccyt1l",
    "id": "i-EQWgbrmi6s"
   },
   "outputs": [],
   "source": [
    "# whoops, it just blew up :)"
   ]
  },
  {
   "cell_type": "markdown",
   "metadata": {
    "cellId": "oopn2o57wxm9vbxzycytce",
    "id": "i1FUgS5Dmi6s"
   },
   "source": [
    "### LM Smoothing\n",
    "\n",
    "The problem with our simple language model is that whenever it encounters an n-gram it has never seen before, it assigns it with the probabilitiy of 0. Every time this happens, perplexity explodes.\n",
    "\n",
    "To battle this issue, there's a technique called __smoothing__. The core idea is to modify counts in a way that prevents probabilities from getting too low. The simplest algorithm here is Additive smoothing (aka [Lapace smoothing](https://en.wikipedia.org/wiki/Additive_smoothing)):\n",
    "\n",
    "$$ P(w_t | prefix) = { Count(prefix, w_t) + \\delta \\over \\sum_{\\hat w} (Count(prefix, \\hat w) + \\delta) } $$\n",
    "\n",
    "If counts for a given prefix are low, additive smoothing will adjust probabilities to a more uniform distribution. Not that the summation in the denominator goes over _all words in the vocabulary_.\n",
    "\n",
    "Here's an example code we've implemented for you:"
   ]
  },
  {
   "cell_type": "code",
   "execution_count": 20,
   "metadata": {
    "cellId": "ioh26rlov6g8l2ssj1c8pm",
    "id": "zaqS4MMEmi6s"
   },
   "outputs": [],
   "source": [
    "class LaplaceLanguageModel(NGramLanguageModel):\n",
    "    \"\"\" this code is an example, no need to change anything \"\"\"\n",
    "    def __init__(self, lines, n, delta=1.0):\n",
    "        self.n = n\n",
    "        counts = count_ngrams(lines, self.n)\n",
    "        self.vocab = set(token for token_counts in counts.values() for token in token_counts)\n",
    "        self.probs = defaultdict(Counter)\n",
    "\n",
    "        for prefix in counts:\n",
    "            token_counts = counts[prefix]\n",
    "            total_count = sum(token_counts.values()) + delta * len(self.vocab)\n",
    "            self.probs[prefix] = {token: (token_counts[token] + delta) / total_count\n",
    "                                          for token in token_counts}\n",
    "    def get_possible_next_tokens(self, prefix):\n",
    "        token_probs = super().get_possible_next_tokens(prefix)\n",
    "        missing_prob_total = 1.0 - sum(token_probs.values())\n",
    "        missing_prob = missing_prob_total / max(1, len(self.vocab) - len(token_probs))\n",
    "        return {token: token_probs.get(token, missing_prob) for token in self.vocab}\n",
    "\n",
    "    def get_next_token_prob(self, prefix, next_token):\n",
    "        token_probs = super().get_possible_next_tokens(prefix)\n",
    "        if next_token in token_probs:\n",
    "            return token_probs[next_token]\n",
    "        else:\n",
    "            missing_prob_total = 1.0 - sum(token_probs.values())\n",
    "            missing_prob_total = max(0, missing_prob_total) # prevent rounding errors\n",
    "            return missing_prob_total / max(1, len(self.vocab) - len(token_probs))\n"
   ]
  },
  {
   "cell_type": "markdown",
   "metadata": {
    "cellId": "90vsann3920ie05r2blbmi",
    "execution_id": "3868303d-0bb9-42c6-a9a8-dcf485c8220c",
    "id": "SkzS-3y5mi6s"
   },
   "source": [
    "**Disclaimer**: the implementation above assumes all words unknown within a given context to be equally likely, *as well as the words outside of vocabulary*. Therefore, its' perplexity will be lower than it should when encountering such words. Therefore, comparing it with a model with fewer unknown words will not be fair. When implementing your own smoothing, you may handle this by adding a virtual `UNK` token of non-zero probability. Technically, this will result in a model where probabilities do not add up to $1$, but it is close enough for a practice excercise."
   ]
  },
  {
   "cell_type": "code",
   "execution_count": 21,
   "metadata": {
    "cellId": "3xvxkdxcmfqucruyt66mdc",
    "id": "lN2PiHiami6s"
   },
   "outputs": [
    {
     "name": "stderr",
     "output_type": "stream",
     "text": [
      "100%|████████████████████████████████████████████████████████████████████████████████████████████████| 100/100 [00:00<00:00, 108660.73it/s]\n",
      "100%|█████████████████████████████████████████████████████████████████████████████████████████████████| 100/100 [00:00<00:00, 59158.03it/s]\n",
      "100%|█████████████████████████████████████████████████████████████████████████████████████████████████| 100/100 [00:00<00:00, 51438.61it/s]\n"
     ]
    }
   ],
   "source": [
    "#test that it's a valid probability model\n",
    "for n in (1, 2, 3):\n",
    "    dummy_lm = LaplaceLanguageModel(dummy_lines, n=n)\n",
    "    assert np.allclose(sum([dummy_lm.get_next_token_prob('a', w_i) for w_i in dummy_lm.vocab]), 1), \"I told you not to break anything! :)\""
   ]
  },
  {
   "cell_type": "code",
   "execution_count": 22,
   "metadata": {
    "cellId": "j6zqa50koitjjri9ipd8ec",
    "id": "Ogt8B6Dcmi6s"
   },
   "outputs": [
    {
     "name": "stderr",
     "output_type": "stream",
     "text": [
      "100%|█████████████████████████████████████████████████████████████████████████████████████████████| 30750/30750 [00:01<00:00, 19906.41it/s]\n"
     ]
    },
    {
     "name": "stdout",
     "output_type": "stream",
     "text": [
      "N = 1, Perplexity = 1832.66878\n"
     ]
    },
    {
     "name": "stderr",
     "output_type": "stream",
     "text": [
      "100%|█████████████████████████████████████████████████████████████████████████████████████████████| 30750/30750 [00:02<00:00, 12366.59it/s]\n"
     ]
    },
    {
     "name": "stdout",
     "output_type": "stream",
     "text": [
      "N = 2, Perplexity = 470.48021\n"
     ]
    },
    {
     "name": "stderr",
     "output_type": "stream",
     "text": [
      "100%|██████████████████████████████████████████████████████████████████████████████████████████████| 30750/30750 [00:05<00:00, 5508.69it/s]\n"
     ]
    },
    {
     "name": "stdout",
     "output_type": "stream",
     "text": [
      "N = 3, Perplexity = 3679.44765\n"
     ]
    }
   ],
   "source": [
    "for n in (1, 2, 3):\n",
    "    lm = LaplaceLanguageModel(train_lines, n=n, delta=0.1)\n",
    "    ppx = perplexity(lm, test_lines)\n",
    "    print(\"N = %i, Perplexity = %.5f\" % (n, ppx))"
   ]
  },
  {
   "cell_type": "code",
   "execution_count": 23,
   "metadata": {
    "cellId": "pjuqt30jcerwbz1ym9zv1",
    "id": "o2h-qbPWmi6s"
   },
   "outputs": [],
   "source": [
    "# optional: try to sample tokens from such a model"
   ]
  },
  {
   "cell_type": "markdown",
   "metadata": {
    "cellId": "3b8s1y9uls4fosu3yp28gg",
    "id": "90lOAt0rmi6s"
   },
   "source": [
    "### Kneser-Ney smoothing (2 points)\n",
    "\n",
    "Additive smoothing is simple, reasonably good but definitely not a State of The Art algorithm.\n",
    "\n",
    "\n",
    "Your final task in this notebook is to implement [Kneser-Ney](https://en.wikipedia.org/wiki/Kneser%E2%80%93Ney_smoothing) smoothing.\n",
    "\n",
    "It can be computed recurrently, for n>1:\n",
    "\n",
    "$$P_{kn}(w_t | prefix_{n-1}) = { \\max(0, Count(prefix_{n-1}, w_t) - \\delta) \\over \\sum_{\\hat w} Count(prefix_{n-1}, \\hat w)} + \\lambda_{prefix_{n-1}} \\cdot P_{kn}(w_t | prefix_{n-2})$$\n",
    "\n",
    "where\n",
    "- $prefix_{n-1}$ is a tuple of {n-1} previous tokens\n",
    "- $lambda_{prefix_{n-1}}$ is a normalization constant chosen so that probabilities add up to 1\n",
    "- Unigram $P_{kn}(w_t | prefix_{n-2})$ corresponds to Kneser Ney smoothing for {N-1}-gram language model.\n",
    "- Unigram $P_{kn}(w_t)$ is a special case: how likely it is to see x_t in an unfamiliar context\n",
    "\n",
    "See lecture slides or wiki for more detailed formulae.\n",
    "\n",
    "__Your task__ is to\n",
    "- implement `KneserNeyLanguageModel` class,\n",
    "- test it on 1-3 gram language models\n",
    "- find optimal (within reason) smoothing delta for 3-gram language model with Kneser-Ney smoothing"
   ]
  },
  {
   "cell_type": "code",
   "execution_count": null,
   "metadata": {
    "cellId": "2ix7kzw02v30oye55322all",
    "id": "lhu078qEmi6s"
   },
   "outputs": [],
   "source": [
    "class KneserNeyLanguageModel(NGramLanguageModel):\n",
    "    \"\"\"A simple Kneser-Ney language model template\"\"\"\n",
    "    def __init__(self, lines, n, delta=0.75):\n",
    "        self.n = n\n",
    "        self.delta = delta\n",
    "\n",
    "        self.tokens = [line.split() for line in lines]\n",
    "\n",
    "        self.vocab = set()\n",
    "        for tokens in self.tokens:\n",
    "            self.vocab.update(tokens)\n",
    "        self.vocab = sorted(list(self.vocab))\n",
    "\n",
    "        self.counts = Counter()\n",
    "        self.context_counts = Counter()\n",
    "        for tokens in self.tokens:\n",
    "            tokens = ['<s>'] * (self.n - 1) + tokens + ['</s>']\n",
    "            for i in range(len(tokens) - self.n + 1):\n",
    "                ngram = tuple(tokens[i:i+self.n])\n",
    "                prefix = ngram[:-1]\n",
    "                self.counts[ngram] += 1\n",
    "                self.context_counts[prefix] += 1\n",
    "\n",
    "    def get_possible_next_tokens(self, prefix):\n",
    "        if isinstance(prefix, str):\n",
    "            prefix = (prefix,)\n",
    "        if len(prefix) < self.n - 1:\n",
    "            prefix = ('<s>',) * (self.n - 1 - len(prefix)) + tuple(prefix)\n",
    "\n",
    "        return [ngram[-1] for ngram in self.counts if ngram[:-1] == prefix]\n",
    "\n",
    "    def get_next_token_prob(self, prefix, next_token):\n",
    "        if isinstance(prefix, str):\n",
    "            prefix = (prefix,)\n",
    "        if len(prefix) < self.n - 1:\n",
    "            prefix = ('<s>',) * (self.n - 1 - len(prefix)) + tuple(prefix)\n",
    "\n",
    "        ngram = prefix + (next_token,)\n",
    "        c_ngram = self.counts.get(ngram, 0)\n",
    "        c_prefix = self.context_counts.get(prefix, 0)\n",
    "\n",
    "        if c_prefix == 0:\n",
    "            return 1 / len(self.vocab)\n",
    "    \n",
    "        p_raw = max(c_ngram - self.delta, 0) / c_prefix\n",
    "\n",
    "        all_probs = [\n",
    "            max(self.counts.get(prefix + (w,), 0) - self.delta, 0)\n",
    "            for w in self.vocab\n",
    "        ]\n",
    "        total = sum(all_probs)\n",
    "        if total == 0:\n",
    "            return 1 / len(self.vocab)\n",
    "\n",
    "        return (max(c_ngram - self.delta, 0)) / total"
   ]
  },
  {
   "cell_type": "code",
   "execution_count": null,
   "metadata": {
    "cellId": "lsk91832qbmdt7x1q0a8z4",
    "id": "FyVhP8Rkmi6s"
   },
   "outputs": [],
   "source": [
    "#test that it's a valid probability model\n",
    "for n in (1, 2, 3):\n",
    "    dummy_lm = KneserNeyLanguageModel(dummy_lines, n=n)\n",
    "    assert np.allclose(sum([dummy_lm.get_next_token_prob('a', w_i) for w_i in dummy_lm.vocab]), 1), \"I told you not to break anything! :)\""
   ]
  },
  {
   "cell_type": "code",
   "execution_count": null,
   "metadata": {
    "cellId": "pp3jtkk9annp1qkou58x1b",
    "id": "CYpTzEpOmi6w"
   },
   "outputs": [],
   "source": [
    "for n in (1, 2, 3):\n",
    "    lm = KneserNeyLanguageModel(train_lines, n=n, delta=0.5)  # или 0.5, 1.0 — можно поэкспериментировать\n",
    "    ppx = perplexity(lm, test_lines)\n",
    "    print(\"N = %i, Perplexity = %.5f\" % (n, ppx))"
   ]
  },
  {
   "cell_type": "code",
   "execution_count": null,
   "metadata": {},
   "outputs": [],
   "source": []
  }
 ],
 "metadata": {
  "colab": {
   "provenance": []
  },
  "kernelspec": {
   "display_name": "Python 3 (ipykernel)",
   "language": "python",
   "name": "python3"
  },
  "language_info": {
   "codemirror_mode": {
    "name": "ipython",
    "version": 3
   },
   "file_extension": ".py",
   "mimetype": "text/x-python",
   "name": "python",
   "nbconvert_exporter": "python",
   "pygments_lexer": "ipython3",
   "version": "3.12.3"
  },
  "notebookId": "53997d2d-afb8-4477-8874-b6d46299f06c",
  "notebookPath": "seminar.ipynb"
 },
 "nbformat": 4,
 "nbformat_minor": 4
}
